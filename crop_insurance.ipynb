{
 "cells": [
  {
   "cell_type": "markdown",
   "metadata": {},
   "source": [
    "# Estimating wildlife damage to crops using crop insurance data\n",
    "---"
   ]
  },
  {
   "cell_type": "code",
   "execution_count": 1,
   "metadata": {},
   "outputs": [
    {
     "name": "stderr",
     "output_type": "stream",
     "text": [
      "\n",
      "Attaching package: ‘dplyr’\n",
      "\n",
      "\n",
      "The following objects are masked from ‘package:plyr’:\n",
      "\n",
      "    arrange, count, desc, failwith, id, mutate, rename, summarise,\n",
      "    summarize\n",
      "\n",
      "\n",
      "The following objects are masked from ‘package:stats’:\n",
      "\n",
      "    filter, lag\n",
      "\n",
      "\n",
      "The following objects are masked from ‘package:base’:\n",
      "\n",
      "    intersect, setdiff, setequal, union\n",
      "\n",
      "\n",
      "\n",
      "Attaching package: ‘reshape2’\n",
      "\n",
      "\n",
      "The following object is masked from ‘package:tidyr’:\n",
      "\n",
      "    smiths\n",
      "\n",
      "\n",
      "Loading required package: zoo\n",
      "\n",
      "\n",
      "Attaching package: ‘zoo’\n",
      "\n",
      "\n",
      "The following objects are masked from ‘package:base’:\n",
      "\n",
      "    as.Date, as.Date.numeric\n",
      "\n",
      "\n"
     ]
    }
   ],
   "source": [
    "# Clean existing variables\n",
    "rm(list=ls())\n",
    "library(plyr)\n",
    "library(tidyr)\n",
    "library(dplyr)\n",
    "library(reshape2)\n",
    "library(frm)\n",
    "library(httr)\n",
    "library(lmtest)\n",
    "library(sandwich)\n",
    "library(broom)\n",
    "library(margins)\n",
    "library(ggplot2)\n",
    "library(RColorBrewer)"
   ]
  },
  {
   "cell_type": "markdown",
   "metadata": {},
   "source": [
    "---\n",
    "### 1. Download data\n",
    "\n",
    "TODO: Add some explanation of where the data comes from (url etc.)"
   ]
  },
  {
   "cell_type": "code",
   "execution_count": 2,
   "metadata": {},
   "outputs": [],
   "source": [
    "getRMA <- function(type, years) {\n",
    "  # This function downloads individual yearly policy or claim files from the RMA website.  \n",
    "  # Args:\n",
    "  #   type: The type of file, must be \"policy\" or \"claim\"\n",
    "  #   years: A vector of integer years. Data from from multiple years will be horizontally stacked\n",
    "  # Return:\n",
    "  #   A dataframe\n",
    "    \n",
    "  if (type == 'policy') {\n",
    "      base_url <- \"https://www.rma.usda.gov/-/media/RMAweb/SCC-SOB/State-County-Crop-Coverage/sobcov_\"\n",
    "  } else if (type == 'claim') {\n",
    "      base_url <- \"https://www.rma.usda.gov/-/media/RMAweb/Cause-Of-Loss/Summary-of-Business-with-Month-of-Loss/colsom_\"\n",
    "  } else {\n",
    "      stop(\"type must equal 'policy' or 'claim'\")\n",
    "  }\n",
    "    \n",
    "  # store df from each year in a list\n",
    "  df_list <- list()\n",
    "  for (y in 1:length(years)) {\n",
    "    response <- GET(paste0(base_url, years[y], \".ashx?la=en\"))\n",
    "    writeBin(content(response, as = \"raw\"), \"temp.zip\")\n",
    "    fName <- unzip(\"temp.zip\", list = TRUE)$Name\n",
    "    unzip(\"temp.zip\")\n",
    "    df <- read.table(fName, sep = \"|\", header = FALSE, dec =\".\", quote = \"\", \n",
    "                     fill=TRUE, skipNul=TRUE, strip.white=TRUE)\n",
    "    file.remove(c(\"temp.zip\", fName))\n",
    "    df_list[[y]] <- df  \n",
    "  }\n",
    "    \n",
    "  # vertically concat the list of dataframes\n",
    "  data <- do.call(\"rbind\", df_list)\n",
    "    \n",
    "  return(data)\n",
    "}\n",
    "\n",
    "\n",
    "getTypes <- function(df) {\n",
    "    types = c()\n",
    "    for (col in colnames(df)) {\n",
    "        types <- c(types, class(df[, col]))\n",
    "    }\n",
    "    return(types)\n",
    "}\n",
    "\n",
    "\n",
    "# TODO: The code in this function is will fail silently. Where do these cols come from?\n",
    "renameCols <- function(df) {\n",
    "    # Inserts real col names.\n",
    "    # Args:\n",
    "    #   df: The dataframe that needs col names\n",
    "    # Return:\n",
    "    #   The dataframe with new col names\n",
    "    \n",
    "    if (dim(df)[2] != 28 & dim(df)[2] != 30) {\n",
    "        stop('The dataframe does not have the expected number of columns. Please check for changes in the structure\n",
    "              of the datafiles.')\n",
    "    }\n",
    "    \n",
    "    if (dim(df)[2] == 28) {\n",
    "        types <- getTypes(df)\n",
    "        policy_types = c(\n",
    "            'integer', 'integer', 'factor', 'integer', 'factor', 'integer', 'factor', 'integer', 'factor', 'factor', 'factor',\n",
    "            'numeric', 'integer', 'integer', 'integer', 'integer', 'integer', 'factor', 'integer', 'integer', 'integer',\n",
    "            'integer', 'integer', 'integer', 'integer', 'integer', 'integer', 'numeric'\n",
    "        )\n",
    "        if (!identical(types, policy_types)) {\n",
    "            stop('The datatypes of the cols do not match expectations. Please check for changes in the structure\n",
    "                  of the datafiles.')\n",
    "        }\n",
    "    }\n",
    "    \n",
    "    if (dim(df)[2] == 30) {\n",
    "        types <- getTypes(df)\n",
    "        \n",
    "        claims_types = c(\n",
    "            'integer', 'integer', 'factor', 'integer', 'factor', 'integer', 'factor', 'integer', 'factor', \n",
    "            'factor', 'factor' ,'factor', 'factor', 'integer', 'factor', 'integer', 'integer', 'integer', \n",
    "            'numeric', 'numeric', 'numeric', 'numeric', 'numeric', 'numeric', 'numeric', 'numeric', 'numeric', \n",
    "            'numeric', 'numeric', 'numeric'\n",
    "        )\n",
    "        if (!identical(types, claims_types)) {\n",
    "            stop('The datatypes of the cols do not match expectations. Please check for changes in the structure\n",
    "                  of the datafiles.')\n",
    "        }\n",
    "    }\n",
    "    \n",
    "    if (dim(df)[2] == 28) {\n",
    "      cols <- cols <- c(\"year\", \"stfips\", \"stabb\", \"cntyfips\", \"cntyname\", \"commoditycode\", \"commodityname\", \n",
    "                        \"insplancode\",\"insplanname\", \"covcateg\", \"delivtype\", \"covlevel\", \"polsold\", \"polprem\", \n",
    "                        \"polindemn\", \"unitssold\", \"unitsindemn\", \"quanttype\", \"acres\", \"endorsedacres\",  \n",
    "                        \"liab\", \"totalpremium\", \"subsidies\", \"stateprivsubsity\", \"addsubsidy\", \"efadisc\",\n",
    "                        \"indemnityamount\", \"lossratio\")\n",
    "    }\n",
    "    if (dim(df)[2] == 30) {\n",
    "      cols <- cols  <- c(\"year\", \"stfips\", \"stabb\", \"cntyfips\", \"cntyname\", \"commoditycode\", \"commodityname\", \n",
    "                         \"insplancode\",\"insplanname\", \"covcateg\", \"stagecode\", \"damagecausecode\", \"damagecausedesc\", \n",
    "                         \"monthloss\", \"monthname\", \"yearloss\", \"polprem\", \"polindemn\",  \"acres\", \"endorsedacres\",  \n",
    "                         \"liab\", \"totalpremium\", \"producerpremuim\", \"subsidies\", \"stateprivatesubs\", \"addsubs\", \n",
    "                         \"EFApremdiscount\", \"lostacres\", \"indemnityamount\", \"lossratio\")\n",
    "    }\n",
    "    names(df) <- cols\n",
    "    return(df)\n",
    "}"
   ]
  },
  {
   "cell_type": "markdown",
   "metadata": {},
   "source": [
    "#### Download policy files"
   ]
  },
  {
   "cell_type": "code",
   "execution_count": 8,
   "metadata": {},
   "outputs": [
    {
     "name": "stdout",
     "output_type": "stream",
     "text": [
      "[1] 268109     28\n"
     ]
    }
   ],
   "source": [
    "full_polacres <- getRMA(type='policy', years=c(2017, 2018))\n",
    "full_polacres <- renameCols(df=full_polacres)\n",
    "print(dim(full_polacres))"
   ]
  },
  {
   "cell_type": "markdown",
   "metadata": {},
   "source": [
    "#### Download claim files"
   ]
  },
  {
   "cell_type": "code",
   "execution_count": 9,
   "metadata": {},
   "outputs": [
    {
     "name": "stdout",
     "output_type": "stream",
     "text": [
      "[1] 244652     30\n"
     ]
    }
   ],
   "source": [
    "claims <- getRMA(type='claim', years=c(2017, 2018))\n",
    "claims <- renameCols(df=claims)\n",
    "print(dim(claims))"
   ]
  },
  {
   "cell_type": "markdown",
   "metadata": {},
   "source": [
    "---\n",
    "### 2. Data organization\n",
    "\n",
    "TODO: add some explanation. There is a figure in the paper we can embed here."
   ]
  },
  {
   "cell_type": "code",
   "execution_count": 24,
   "metadata": {},
   "outputs": [],
   "source": [
    "sumCov <- function(df, variable, w=0) {\n",
    "  sub_df <- df[, grepl(variable, names(df))]\n",
    "  names(sub_df) <- suppressWarnings(as.numeric(sub(paste(variable, \".\", sep = \"\"), \"\", names(sub_df))))\n",
    "  sub_df[, is.na(names(sub_df))] <- NULL\n",
    "  ifelse(w == 0,\n",
    "        return(rowSums(sub_df)),\n",
    "        return(rowSums(as.matrix(sub_df) %*% diag(names(sub_df)))))\n",
    "}"
   ]
  },
  {
   "cell_type": "code",
   "execution_count": 25,
   "metadata": {},
   "outputs": [],
   "source": [
    "format_policies <- function(df) {\n",
    "  # TODO: add docstring\n",
    "  df <- reshape(df, idvar = c(\"year\", \"stfips\", \"stabb\", \"cntyfips\", \"cntyname\", \n",
    "                              \"commoditycode\", \"commodityname\", \"insplancode\", \n",
    "                              \"insplanname\", \"covcateg\", \"claim\"), \n",
    "                timevar = \"covlevel\", v.names=c(\"acres\", \"unitssold\"), direction = \"wide\")\n",
    "  df[is.na(df)] <- 0\n",
    "  # calculate the mean coverage level and the number of units sold by year, stfips, \n",
    "  # cntyfips, commoditycode, insplancode, covcateg, claim combination\n",
    "  df$acres.total <- sumCov(df, \"acres\") \n",
    "  df$unitssold <- sumCov(df, \"unitssold\")\n",
    "  df$meancov <- sumCov(df, \"acres\", w=1) / df$acres.total\n",
    "  myvars <- c(\"year\",\"stfips\", \"stabb\", \"cntyfips\", \"cntyname\", \"commoditycode\", \"commodityname\", \n",
    "              \"insplancode\", \"insplanname\", \"covcateg\", \"claim\", \"acres.total\", \"unitssold\", \"meancov\")\n",
    "  df <- df[myvars]\n",
    "  \n",
    "  return(df)\n",
    "}"
   ]
  },
  {
   "cell_type": "code",
   "execution_count": 26,
   "metadata": {},
   "outputs": [],
   "source": [
    "split_polacres <- function(full_polacres) {\n",
    "    # only keep policies with premium expressed in acres and known county fips and commodity code\n",
    "    polacres <- full_polacres[full_polacres$polprem > 0 & \n",
    "                              full_polacres$quanttype == \"Acres\" & full_polacres$acres > 0 & \n",
    "                              full_polacres$commoditycode != 9999, ]\n",
    "    polacres$claim <- ifelse(polacres$unitsindemn > 0, 1, 0)\n",
    "    myvars <- c(\"year\", \"stfips\", \"stabb\", \"cntyfips\", \"cntyname\", \"commoditycode\", \"commodityname\", \n",
    "                \"insplancode\", \"insplanname\", \"covcateg\", \"covlevel\", \"unitssold\", \"claim\", \"acres\")\n",
    "    polacres <- polacres[myvars]\n",
    "    polacres <- format_policies(polacres)\n",
    "\n",
    "    # we split the policy file into polacresclaim for which we have claims\n",
    "    polacresclaim <- polacres[polacres$claim == 1, ]\n",
    "    # and polacresnoclaim for which we have no claims. We save this file for later.\n",
    "    polacresnoclaim <- polacres[polacres$claim == 0, ]\n",
    "    polacresnoclaim$lostacres <- 0\n",
    "    \n",
    "    return(list(polacresclaim, polacresnoclaim))\n",
    "}"
   ]
  },
  {
   "cell_type": "code",
   "execution_count": 27,
   "metadata": {},
   "outputs": [],
   "source": [
    "join_claims_data <- function(claims, polacresclaim) {\n",
    "    # only keep wildlife claims with insured and lost acres and known county fips and commodity code\n",
    "    claimswild <- claims[claims$cntyfips < 999 & claims$acres > 0 & \n",
    "                         claims$commoditycode != 9999 & claims$lostacres > 0 & claims$damagecausecode == 93, ]\n",
    "\n",
    "    claimswild <- aggregate(cbind(lostacres) ~ year + stfips + stabb + cntyfips + cntyname + commoditycode + \n",
    "                            commodityname + insplancode + insplanname + covcateg, \n",
    "                            data = claimswild, FUN = function(x) sum(x), na.action=NULL )\n",
    "\n",
    "    claimspol <- join(polacresclaim, claimswild, by=c(\"year\", \"stfips\", \"stabb\", \"cntyfips\", \"cntyname\", \n",
    "                                                      \"commoditycode\", \"commodityname\", \"insplancode\", \n",
    "                                                      \"insplanname\", \"covcateg\"), type='left')\n",
    "\n",
    "    return(claimspol)\n",
    "}"
   ]
  },
  {
   "cell_type": "code",
   "execution_count": 28,
   "metadata": {},
   "outputs": [],
   "source": [
    "build_features <- function(claimspol, polacresnoclaim) {\n",
    "    # we can now append the 2 files\n",
    "    claimpoltot <- bind_rows(claimspol, polacresnoclaim)\n",
    "    claimpoltot$lostacres[is.na(claimpoltot$lostacres)] <- 0\n",
    "    claimpoltot$ratio <- claimpoltot$lostacres/claimpoltot$acres.total\n",
    "    claimpoltot$ratio[claimpoltot$ratio > 1] <- 1\n",
    "    claimpoltot$lostacres <- claimpoltot$ratio*claimpoltot$acres\n",
    "    claimpoltot$fullfips <- claimpoltot$stfips*1000 + claimpoltot$cntyfips\n",
    "    claimpoltot$logacres <- log(claimpoltot$acres.total)\n",
    "    claimpoltot$logunitssold <- log(claimpoltot$unitssold)\n",
    "    claimpoltot$cat <- ifelse(claimpoltot$covcateg==\"C\", 1, 0)\n",
    "    claimpoltot$y2017 <- ifelse(claimpoltot$year==2017, 1, 0)\n",
    "\n",
    "    # create string variables to be treated as categorical variables\n",
    "    claimpoltot$fullfips.ch <- as.character(claimpoltot$fullfips)\n",
    "    claimpoltot$commoditycode.ch <- as.character(claimpoltot$commoditycode)\n",
    "    claimpoltot$insplancode.ch <- as.character(claimpoltot$insplancode)\n",
    "\n",
    "    return(claimpoltot)\n",
    "}"
   ]
  },
  {
   "cell_type": "code",
   "execution_count": 29,
   "metadata": {},
   "outputs": [],
   "source": [
    "split <- split_polacres(full_polacres)\n",
    "polacresclaim <- split[[1]]\n",
    "polacresnoclaim <- split[[2]]\n",
    "\n",
    "claimspol <- join_claims_data(claims, polacresclaim)\n",
    "\n",
    "claimpoltot <- build_features(claimspol, polacresnoclaim)"
   ]
  },
  {
   "cell_type": "markdown",
   "metadata": {},
   "source": [
    "---\n",
    "### 3. Modeling"
   ]
  },
  {
   "cell_type": "code",
   "execution_count": null,
   "metadata": {},
   "outputs": [],
   "source": [
    "model_glm = glm(\n",
    "  ratio ~  meancov + logacres + logunitssold + cat + y2017 + insplancode.ch + commoditycode.ch + fullfips.ch,\n",
    "  epsilon = 1e-6,\n",
    "  data = claimpoltot,\n",
    "  family = quasibinomial\n",
    ")\n",
    "\n",
    "# get robust standard errors\n",
    "tidy(coeftest(model_glm, vcov = vcovHC(model_glm, type=\"HC\")))\n",
    "\n",
    "summary(model_glm)"
   ]
  },
  {
   "cell_type": "markdown",
   "metadata": {},
   "source": [
    "---\n",
    "### 4. Results"
   ]
  },
  {
   "cell_type": "code",
   "execution_count": null,
   "metadata": {},
   "outputs": [],
   "source": [
    "# Estimated lost acres if no low coverage\n",
    "preds <- claimpoltot[claimpoltot$year == 2018,]\n",
    "preds$meancov <- 1  # 100%\n",
    "preds$insplancode.ch <- \"1\"\n",
    "preds$cat <- 0\n",
    "preds$ratio.hat <- predict(model_glm, new, se.fit = FALSE, type = \"response\")\n",
    "\n",
    "summary(preds$ratio.hat)\n",
    "\n",
    "preds$lostacres.hat <- preds$acres.total * preds$ratio.hat\n",
    "preds <- aggregate(cbind(acres.total, lostacres, lostacres.hat) ~ year + fullfips + stfips + stabb + cntyfips + \n",
    "                                                                cntyname + commoditycode + commodityname, \n",
    "                 data = new, FUN = function(x) sum(x), na.action=NULL )\n",
    "\n",
    "preds$ratio.county <-preds$lostacres / preds$acres.total\n",
    "preds$ratio.county.hat <- preds$lostacres.hat / preds$acres.total\n",
    "summary(preds$ratio.county)\n",
    "summary(preds$ratio.county.hat)\n",
    "\n",
    "# write.csv(new, file = \"/Users/sophiemckee/Dropbox/APHIS/Insurance/Paper on Wildlife Claims/predictions_ratio_allfips_1.csv\",row.names=FALSE)"
   ]
  },
  {
   "cell_type": "code",
   "execution_count": null,
   "metadata": {},
   "outputs": [],
   "source": []
  },
  {
   "cell_type": "code",
   "execution_count": null,
   "metadata": {},
   "outputs": [],
   "source": []
  },
  {
   "cell_type": "code",
   "execution_count": null,
   "metadata": {},
   "outputs": [],
   "source": [
    "# load data \n",
    "cty_shape <- read.csv(\"county_shape.csv\")\n",
    "st_shape <- read.csv(\"state_shape.csv\")\n",
    "#preds <- read.csv('predictions_ratio_allfips.csv', stringsAsFactors = FALSE)\n",
    "\n",
    "# organize loss data\n",
    "cty_shape$Fips = as.character(cty_shape$Fips)\n",
    "preds$cntyfips <- as.character(preds$cntyfips)\n",
    "preds$stfips <- as.character(preds$stfips)\n",
    "preds$fips <- NA\n",
    "\n",
    "for (i in 1:nrow(preds)) {\n",
    "  if (nchar(preds$cntyfips[i]) == 1) {\n",
    "    preds$cntyfips[i] = paste('00', preds$cntyfips[i], sep='')\n",
    "  }\n",
    "  if (nchar(preds$cntyfips[i]) == 2) {\n",
    "    preds$cntyfips[i] = paste('0', preds$cntyfips[i], sep='')\n",
    "  }\n",
    "  preds$fips[i] = paste(preds$stfips[i], preds$cntyfips[i], sep='')\n",
    "}\n",
    "\n",
    "cty_shape['lost_corn'] <- NA\n",
    "cty_shape['lost_wheat'] <- NA\n",
    "cty_shape['lost_soybeans'] <- NA\n",
    "cty_shape['lost_peanuts'] <- NA\n",
    "\n",
    "for (i in 1:nrow(preds)) {\n",
    "  if (preds$commoditycode[i] == 41) {\n",
    "    cty_shape[cty_shape$Fips == preds$fips[i], 'lost_corn'] = preds$ratiohat[i]\n",
    "  }\n",
    "  if (preds$commoditycode[i] == 11) {\n",
    "    cty_shape[cty_shape$Fips == preds$fips[i], 'lost_wheat'] = preds$ratiohat[i]\n",
    "  }\n",
    "  if (preds$commoditycode[i] == 81) {\n",
    "    cty_shape[cty_shape$Fips == preds$fips[i], 'lost_soybeans'] = preds$ratiohat[i]\n",
    "  }\n",
    "  if (preds$commoditycode[i] == 75) {\n",
    "    cty_shape[cty_shape$Fips == preds$fips[i], 'lost_peanuts'] = preds$ratiohat[i]\n",
    "  }\n",
    "}\n",
    "\n",
    "\n",
    "# map it\n",
    "ggplot() + \n",
    "  theme_void() +\n",
    "  theme(plot.title = element_text(hjust = 0.5)) +\n",
    "  ggtitle('Fraction of Peanut Acres Lost to Wildlife') + \n",
    "  scale_fill_gradientn('', colours = brewer.pal(9, 'YlOrRd')) +\n",
    "  # county polygons \n",
    "  geom_polygon(data = cty_shape[ order(cty_shape$order), ],\n",
    "               aes(long, lat, group = group, fill = lost_peanuts),\n",
    "               col = \"#c0c5ce\", size=0.1) +\n",
    "  # cords\n",
    "  coord_map(\"bonne\",  param = 40) + \n",
    "  # state polygons\n",
    "  geom_polygon(data = st_shape[ order(st_shape$state_order), ],\n",
    "               aes(state_long, state_lat, group = state_group),\n",
    "               fill = NA,\n",
    "               col = \"black\") "
   ]
  }
 ],
 "metadata": {
  "kernelspec": {
   "display_name": "R",
   "language": "R",
   "name": "ir"
  },
  "language_info": {
   "codemirror_mode": "r",
   "file_extension": ".r",
   "mimetype": "text/x-r-source",
   "name": "R",
   "pygments_lexer": "r",
   "version": "3.6.2"
  }
 },
 "nbformat": 4,
 "nbformat_minor": 2
}
